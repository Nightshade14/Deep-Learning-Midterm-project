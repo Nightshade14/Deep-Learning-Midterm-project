{
  "cells": [
    {
      "cell_type": "code",
      "execution_count": null,
      "metadata": {
        "id": "YRcEHd9kqRMy"
      },
      "outputs": [],
      "source": [
        "import numpy as np\n",
        "import torch\n",
        "from torch import nn\n",
        "import torchvision\n",
        "from torchvision.transforms import v2\n",
        "import matplotlib.pyplot as plt"
      ]
    },
    {
      "cell_type": "markdown",
      "metadata": {
        "id": "OHyUToggqRM0"
      },
      "source": [
        "#### Augmentations and Transformations List:\n",
        "Pad\n",
        "RandomPerspective\n",
        "RandomRotation\n",
        "RandomAffine\n",
        "GaussianBlur\n",
        "\n",
        "policy == AutoAugmentPolicy.CIFAR10:\n",
        "            return [\n",
        "                ((\"Invert\", 0.1, None), (\"Contrast\", 0.2, 6)),\n",
        "                ((\"Rotate\", 0.7, 2), (\"TranslateX\", 0.3, 9)),\n",
        "                ((\"Sharpness\", 0.8, 1), (\"Sharpness\", 0.9, 3)),\n",
        "                ((\"ShearY\", 0.5, 8), (\"TranslateY\", 0.7, 9)),\n",
        "                ((\"AutoContrast\", 0.5, None), (\"Equalize\", 0.9, None)),\n",
        "                ((\"ShearY\", 0.2, 7), (\"Posterize\", 0.3, 7)),\n",
        "                ((\"Color\", 0.4, 3), (\"Brightness\", 0.6, 7)),\n",
        "                ((\"Sharpness\", 0.3, 9), (\"Brightness\", 0.7, 9)),\n",
        "                ((\"Equalize\", 0.6, None), (\"Equalize\", 0.5, None)),\n",
        "                ((\"Contrast\", 0.6, 7), (\"Sharpness\", 0.6, 5)),\n",
        "                ((\"Color\", 0.7, 7), (\"TranslateX\", 0.5, 8)),\n",
        "                ((\"Equalize\", 0.3, None), (\"AutoContrast\", 0.4, None)),\n",
        "                ((\"TranslateY\", 0.4, 3), (\"Sharpness\", 0.2, 6)),\n",
        "                ((\"Brightness\", 0.9, 6), (\"Color\", 0.2, 8)),\n",
        "                ((\"Solarize\", 0.5, 2), (\"Invert\", 0.0, None)),\n",
        "                ((\"Equalize\", 0.2, None), (\"AutoContrast\", 0.6, None)),\n",
        "                ((\"Equalize\", 0.2, None), (\"Equalize\", 0.6, None)),\n",
        "                ((\"Color\", 0.9, 9), (\"Equalize\", 0.6, None)),\n",
        "                ((\"AutoContrast\", 0.8, None), (\"Solarize\", 0.2, 8)),\n",
        "                ((\"Brightness\", 0.1, 3), (\"Color\", 0.7, 0)),\n",
        "                ((\"Solarize\", 0.4, 5), (\"AutoContrast\", 0.9, None)),\n",
        "                ((\"TranslateY\", 0.9, 9), (\"TranslateY\", 0.7, 9)),\n",
        "                ((\"AutoContrast\", 0.9, None), (\"Solarize\", 0.8, 3)),\n",
        "                ((\"Equalize\", 0.8, None), (\"Invert\", 0.1, None)),\n",
        "                ((\"TranslateY\", 0.7, 9), (\"AutoContrast\", 0.9, None)),\n",
        "            ]\n",
        "\n",
        "\n"
      ]
    },
    {
      "cell_type": "code",
      "execution_count": null,
      "metadata": {
        "id": "fj_ZmDBxqRM2"
      },
      "outputs": [],
      "source": [
        "def unpickle(file):\n",
        "    import pickle\n",
        "    with open(file, 'rb') as fo:\n",
        "        dict = pickle.load(fo, encoding='bytes')\n",
        "    return dict"
      ]
    },
    {
      "cell_type": "code",
      "execution_count": null,
      "metadata": {
        "id": "jsUkyka9qRM2"
      },
      "outputs": [],
      "source": [
        "def get_label_names_from_bytes_dict(x:dict) -> list:\n",
        "    data = x.get(b\"label_names\")\n",
        "    labels =  list(map(lambda m: m.decode(\"utf-8\"),data))\n",
        "    label_dict = dict()\n",
        "    for i in range(10):\n",
        "        label_dict.update({labels[i]: i})\n",
        "    return label_dict"
      ]
    },
    {
      "cell_type": "code",
      "execution_count": null,
      "metadata": {
        "id": "-TsPvRAuqRM2"
      },
      "outputs": [],
      "source": [
        "def treat_image_structure(x):\n",
        "    return np.transpose(np.reshape(x, (3,32,32)), (1,2,0))"
      ]
    },
    {
      "cell_type": "code",
      "execution_count": null,
      "metadata": {
        "id": "4VsT5i-nqRM2"
      },
      "outputs": [],
      "source": [
        "def get_data(file_path):\n",
        "    X = []\n",
        "    y = []\n",
        "\n",
        "    file_data = unpickle(file_path)\n",
        "    for image, label in zip(file_data[b\"data\"],file_data[b\"labels\"]):\n",
        "        corrected_image = treat_image_structure(image)\n",
        "        X.append(corrected_image)\n",
        "        y.append(label)\n",
        "\n",
        "    X = np.array(X)\n",
        "    y = np.array(y)\n",
        "\n",
        "    return (X,y)\n"
      ]
    },
    {
      "cell_type": "code",
      "execution_count": null,
      "metadata": {
        "id": "qF4LYnDhqRM3"
      },
      "outputs": [],
      "source": [
        "def get_data_from_dir(dir_path, start_pattern=\"data_batch_\"):\n",
        "    import os\n",
        "    X = []\n",
        "    y = []\n",
        "    for path in os.listdir(dir_path):\n",
        "        if path.startswith(start_pattern):\n",
        "            final_path = \"\".join((dir_path,path))\n",
        "\n",
        "            X_batch, y_batch = get_data(final_path)\n",
        "            X.extend(X_batch)\n",
        "            y.extend(y_batch)\n",
        "\n",
        "    X = np.array(X)\n",
        "    y = np.array(y)\n",
        "    return (X,y)"
      ]
    },
    {
      "cell_type": "code",
      "execution_count": null,
      "metadata": {
        "id": "3fMZ3DNEqRM3"
      },
      "outputs": [],
      "source": [
        "def preprocess_data(images):\n",
        "    '''\n",
        "    We apply torchvision's auto-augment policy specially designed to enhance the generalization of the model on CIFAR10 dataset.\n",
        "    Thus, this creates better augmented data, more suitable for generalized learning of features.\n",
        "    The transformations are applied randomly from bunch of transformations. Random for every image.\n",
        "    '''\n",
        "\n",
        "    augmenter = v2.AutoAugment(v2.AutoAugmentPolicy.CIFAR10)\n",
        "    augmented_images = augmenter(images)\n",
        "    return augmented_images"
      ]
    },
    {
      "cell_type": "code",
      "execution_count": null,
      "metadata": {
        "id": "rir-0ddRqRM3"
      },
      "outputs": [],
      "source": [
        "def is_my_model_under_5m_params(model):\n",
        "    FIVE_MILLION = 5_000_000\n",
        "    sum = 0\n",
        "    for x in model.parameters():\n",
        "        sum += x.numel()\n",
        "    print(sum)\n",
        "    if sum <= FIVE_MILLION:\n",
        "        print(\"less than 5 million params\")\n",
        "    else:\n",
        "        print(f\"Decrease {sum - FIVE_MILLION} params!!!\")"
      ]
    },
    {
      "cell_type": "code",
      "execution_count": null,
      "metadata": {
        "id": "V8QYoYYxqRM3",
        "colab": {
          "base_uri": "https://localhost:8080/"
        },
        "outputId": "95de0109-21aa-4cdf-8945-e25942462007"
      },
      "outputs": [
        {
          "output_type": "stream",
          "name": "stdout",
          "text": [
            "Mounted at /content/drive\n"
          ]
        }
      ],
      "source": [
        "from google.colab import drive\n",
        "drive.mount('/content/drive')\n",
        "META_FILE_PATH = \"/content/drive/My Drive/dataset/train/batches.meta\"\n",
        "\n",
        "TRAINING_FILE_PATH = \"/content/drive/My Drive/dataset/train/\"\n",
        "VALIDATION_FILE_PATH = \"/content/drive/My Drive/dataset/val/test_batch\"\n",
        "TEST_FILE_PATH = \"/content/drive/My Drive/dataset/test/cifar_test_nolabels.pkl\"\n",
        "\n",
        "IS_LOGGING_ENABLED = True"
      ]
    },
    {
      "cell_type": "code",
      "execution_count": null,
      "metadata": {
        "colab": {
          "base_uri": "https://localhost:8080/"
        },
        "id": "0XBgzogcqRM4",
        "outputId": "a959c18f-4d03-4c85-dd1f-52bced4c9ba6"
      },
      "outputs": [
        {
          "output_type": "stream",
          "name": "stdout",
          "text": [
            "{'airplane': 0, 'automobile': 1, 'bird': 2, 'cat': 3, 'deer': 4, 'dog': 5, 'frog': 6, 'horse': 7, 'ship': 8, 'truck': 9}\n"
          ]
        }
      ],
      "source": [
        "label_mapping = get_label_names_from_bytes_dict(unpickle(META_FILE_PATH))\n",
        "if IS_LOGGING_ENABLED:\n",
        "    print(label_mapping)"
      ]
    },
    {
      "cell_type": "code",
      "execution_count": null,
      "metadata": {
        "id": "xZJgrqXJqRM5",
        "colab": {
          "base_uri": "https://localhost:8080/"
        },
        "outputId": "0aa755b7-0897-4408-e747-6b2f5d1d685e"
      },
      "outputs": [
        {
          "output_type": "stream",
          "name": "stdout",
          "text": [
            "(50000, 32, 32, 3)\n",
            "(50000,)\n"
          ]
        }
      ],
      "source": [
        "X_train_np, y_train_np = get_data_from_dir(TRAINING_FILE_PATH)\n",
        "if IS_LOGGING_ENABLED:\n",
        "    print(X_train_np.shape)\n",
        "    print(y_train_np.shape)"
      ]
    },
    {
      "cell_type": "code",
      "execution_count": null,
      "metadata": {
        "id": "BMtKZyM5qRM5",
        "colab": {
          "base_uri": "https://localhost:8080/"
        },
        "outputId": "6b41feba-d57a-4b1c-86d3-62ad2cf2facf"
      },
      "outputs": [
        {
          "output_type": "stream",
          "name": "stdout",
          "text": [
            "(10000, 32, 32, 3)\n",
            "(10000,)\n"
          ]
        }
      ],
      "source": [
        "X_val_np, y_val_np = get_data(VALIDATION_FILE_PATH)\n",
        "if IS_LOGGING_ENABLED:\n",
        "    print(X_val_np.shape)\n",
        "    print(y_val_np.shape)"
      ]
    },
    {
      "cell_type": "code",
      "execution_count": null,
      "metadata": {
        "id": "6zcLbwLOqRM5",
        "colab": {
          "base_uri": "https://localhost:8080/"
        },
        "outputId": "b69345cd-f1ca-410c-e5ed-41b9a5273373"
      },
      "outputs": [
        {
          "output_type": "execute_result",
          "data": {
            "text/plain": [
              "<torch._C.Generator at 0x7e9b78735670>"
            ]
          },
          "metadata": {},
          "execution_count": 23
        }
      ],
      "source": [
        "# I want to set the seed for the random transformations for autoaugment policy.\n",
        "torch.manual_seed(0)"
      ]
    },
    {
      "cell_type": "code",
      "execution_count": null,
      "metadata": {
        "id": "No9aqZ2rqRM6",
        "colab": {
          "base_uri": "https://localhost:8080/"
        },
        "outputId": "23ee3fc0-5b4d-4077-aa9b-06c3eaee156e"
      },
      "outputs": [
        {
          "output_type": "stream",
          "name": "stdout",
          "text": [
            "torch.Size([50000, 3, 32, 32])\n",
            "torch.Size([50000])\n",
            "\n",
            "torch.Size([10000, 3, 32, 32])\n",
            "torch.Size([10000])\n"
          ]
        }
      ],
      "source": [
        "# We change the structure of the image from 32x32x3 to 3x32x32 because the our torchvision augmenter needs data in that style.\n",
        "\"\"\"\n",
        "X_train = torch.transpose(torch.from_numpy(X_train_np),1,3)\n",
        "y_train = torch.from_numpy(y_train_np)\n",
        "\n",
        "X_val = torch.transpose(torch.from_numpy(X_val_np),1,3)\n",
        "y_val = torch.from_numpy(y_val_np)\n",
        "\"\"\"\n",
        "\n",
        "# Convert image numpy arrays to torch tensors of type float\n",
        "X_train = torch.tensor(X_train_np, dtype=torch.float).transpose(1, 3)\n",
        "y_train = torch.tensor(y_train_np, dtype=torch.long)  # Labels should be of type long\n",
        "\n",
        "X_val = torch.tensor(X_val_np, dtype=torch.float).transpose(1, 3)\n",
        "y_val = torch.tensor(y_val_np, dtype=torch.long)\n",
        "\n",
        "\n",
        "if IS_LOGGING_ENABLED:\n",
        "    print(X_train.shape)\n",
        "    print(y_train.shape, end=\"\\n\\n\")\n",
        "    print(X_val.shape)\n",
        "    print(y_val.shape)"
      ]
    },
    {
      "cell_type": "code",
      "execution_count": null,
      "metadata": {
        "id": "Hp_6lCtuqRM7"
      },
      "outputs": [],
      "source": [
        "# We use data augmentation only on training data because we will use the validation data as test data\n",
        "# We could also use it on val data, but I do not think it would be useful.\n",
        "\n",
        "X_train = preprocess_data(X_train)"
      ]
    },
    {
      "cell_type": "code",
      "execution_count": null,
      "metadata": {
        "id": "qs3Ux2CTqRM7"
      },
      "outputs": [],
      "source": [
        "from torch.utils.data import Dataset, DataLoader\n",
        "from torchvision.transforms import transforms\n",
        "\n",
        "class CustomDataset(Dataset):\n",
        "    def __init__(self, images, labels, transform=None):\n",
        "        \"\"\"\n",
        "        images: A numpy array of shape (N, 32, 32, 3) where N is the number of images.\n",
        "        labels: A numpy array of shape (N,) where N is the number of labels.\n",
        "        transform: PyTorch transforms for transforms and data augmentation\n",
        "        \"\"\"\n",
        "        self.images = images\n",
        "        self.labels = labels\n",
        "        self.transform = transform\n",
        "\n",
        "    def __len__(self):\n",
        "        return len(self.images)\n",
        "\n",
        "    def __getitem__(self, idx):\n",
        "        image = self.images[idx]\n",
        "        label = self.labels[idx]\n",
        "\n",
        "        if self.transform:\n",
        "            image = self.transform(image)\n",
        "\n",
        "        return image, label\n",
        "\n",
        "# Define your transforms\n",
        "transform = transforms.Compose([\n",
        "    transforms.ToPILImage(),  # Convert numpy array to PIL Image first\n",
        "    transforms.RandomHorizontalFlip(),\n",
        "    transforms.RandomCrop(32, padding=4),\n",
        "    transforms.ToTensor(),\n",
        "    transforms.Normalize((0.5, 0.5, 0.5), (0.5, 0.5, 0.5)),\n",
        "])\n",
        "\n",
        "# Create dataset\n",
        "train_dataset = CustomDataset(X_train_np, y_train_np, transform=transform)\n",
        "val_dataset = CustomDataset(X_val_np, y_val_np, transform=transform)\n",
        "\n",
        "# Create data loaders\n",
        "train_loader = DataLoader(train_dataset, batch_size=64, shuffle=True)\n",
        "val_loader = DataLoader(val_dataset, batch_size=64, shuffle=False)"
      ]
    },
    {
      "cell_type": "code",
      "execution_count": null,
      "metadata": {
        "id": "fUQZG8DsqRM7",
        "colab": {
          "base_uri": "https://localhost:8080/"
        },
        "outputId": "b2a9c339-6a99-4e80-f80c-fde7bce89f83"
      },
      "outputs": [
        {
          "output_type": "execute_result",
          "data": {
            "text/plain": [
              "ResNet(\n",
              "  (conv1): Conv2d(3, 64, kernel_size=(7, 7), stride=(2, 2), padding=(3, 3), bias=False)\n",
              "  (bn1): BatchNorm2d(64, eps=1e-05, momentum=0.1, affine=True, track_running_stats=True)\n",
              "  (relu): ReLU(inplace=True)\n",
              "  (maxpool): MaxPool2d(kernel_size=3, stride=2, padding=1, dilation=1, ceil_mode=False)\n",
              "  (layer1): Sequential(\n",
              "    (0): BasicBlock(\n",
              "      (conv1): Conv2d(64, 64, kernel_size=(3, 3), stride=(1, 1), padding=(1, 1), bias=False)\n",
              "      (bn1): BatchNorm2d(64, eps=1e-05, momentum=0.1, affine=True, track_running_stats=True)\n",
              "      (relu): ReLU(inplace=True)\n",
              "      (conv2): Conv2d(64, 64, kernel_size=(3, 3), stride=(1, 1), padding=(1, 1), bias=False)\n",
              "      (bn2): BatchNorm2d(64, eps=1e-05, momentum=0.1, affine=True, track_running_stats=True)\n",
              "    )\n",
              "    (1): BasicBlock(\n",
              "      (conv1): Conv2d(64, 64, kernel_size=(3, 3), stride=(1, 1), padding=(1, 1), bias=False)\n",
              "      (bn1): BatchNorm2d(64, eps=1e-05, momentum=0.1, affine=True, track_running_stats=True)\n",
              "      (relu): ReLU(inplace=True)\n",
              "      (conv2): Conv2d(64, 64, kernel_size=(3, 3), stride=(1, 1), padding=(1, 1), bias=False)\n",
              "      (bn2): BatchNorm2d(64, eps=1e-05, momentum=0.1, affine=True, track_running_stats=True)\n",
              "    )\n",
              "  )\n",
              "  (layer2): Sequential(\n",
              "    (0): BasicBlock(\n",
              "      (conv1): Conv2d(64, 128, kernel_size=(3, 3), stride=(2, 2), padding=(1, 1), bias=False)\n",
              "      (bn1): BatchNorm2d(128, eps=1e-05, momentum=0.1, affine=True, track_running_stats=True)\n",
              "      (relu): ReLU(inplace=True)\n",
              "      (conv2): Conv2d(128, 128, kernel_size=(3, 3), stride=(1, 1), padding=(1, 1), bias=False)\n",
              "      (bn2): BatchNorm2d(128, eps=1e-05, momentum=0.1, affine=True, track_running_stats=True)\n",
              "      (downsample): Sequential(\n",
              "        (0): Conv2d(64, 128, kernel_size=(1, 1), stride=(2, 2), bias=False)\n",
              "        (1): BatchNorm2d(128, eps=1e-05, momentum=0.1, affine=True, track_running_stats=True)\n",
              "      )\n",
              "    )\n",
              "    (1): BasicBlock(\n",
              "      (conv1): Conv2d(128, 128, kernel_size=(3, 3), stride=(1, 1), padding=(1, 1), bias=False)\n",
              "      (bn1): BatchNorm2d(128, eps=1e-05, momentum=0.1, affine=True, track_running_stats=True)\n",
              "      (relu): ReLU(inplace=True)\n",
              "      (conv2): Conv2d(128, 128, kernel_size=(3, 3), stride=(1, 1), padding=(1, 1), bias=False)\n",
              "      (bn2): BatchNorm2d(128, eps=1e-05, momentum=0.1, affine=True, track_running_stats=True)\n",
              "    )\n",
              "  )\n",
              "  (layer3): Sequential(\n",
              "    (0): BasicBlock(\n",
              "      (conv1): Conv2d(128, 256, kernel_size=(3, 3), stride=(2, 2), padding=(1, 1), bias=False)\n",
              "      (bn1): BatchNorm2d(256, eps=1e-05, momentum=0.1, affine=True, track_running_stats=True)\n",
              "      (relu): ReLU(inplace=True)\n",
              "      (conv2): Conv2d(256, 256, kernel_size=(3, 3), stride=(1, 1), padding=(1, 1), bias=False)\n",
              "      (bn2): BatchNorm2d(256, eps=1e-05, momentum=0.1, affine=True, track_running_stats=True)\n",
              "      (downsample): Sequential(\n",
              "        (0): Conv2d(128, 256, kernel_size=(1, 1), stride=(2, 2), bias=False)\n",
              "        (1): BatchNorm2d(256, eps=1e-05, momentum=0.1, affine=True, track_running_stats=True)\n",
              "      )\n",
              "    )\n",
              "    (1): BasicBlock(\n",
              "      (conv1): Conv2d(256, 256, kernel_size=(3, 3), stride=(1, 1), padding=(1, 1), bias=False)\n",
              "      (bn1): BatchNorm2d(256, eps=1e-05, momentum=0.1, affine=True, track_running_stats=True)\n",
              "      (relu): ReLU(inplace=True)\n",
              "      (conv2): Conv2d(256, 256, kernel_size=(3, 3), stride=(1, 1), padding=(1, 1), bias=False)\n",
              "      (bn2): BatchNorm2d(256, eps=1e-05, momentum=0.1, affine=True, track_running_stats=True)\n",
              "    )\n",
              "  )\n",
              "  (layer4): Sequential(\n",
              "    (0): BasicBlock(\n",
              "      (conv1): Conv2d(256, 512, kernel_size=(3, 3), stride=(2, 2), padding=(1, 1), bias=False)\n",
              "      (bn1): BatchNorm2d(512, eps=1e-05, momentum=0.1, affine=True, track_running_stats=True)\n",
              "      (relu): ReLU(inplace=True)\n",
              "      (conv2): Conv2d(512, 512, kernel_size=(3, 3), stride=(1, 1), padding=(1, 1), bias=False)\n",
              "      (bn2): BatchNorm2d(512, eps=1e-05, momentum=0.1, affine=True, track_running_stats=True)\n",
              "      (downsample): Sequential(\n",
              "        (0): Conv2d(256, 512, kernel_size=(1, 1), stride=(2, 2), bias=False)\n",
              "        (1): BatchNorm2d(512, eps=1e-05, momentum=0.1, affine=True, track_running_stats=True)\n",
              "      )\n",
              "    )\n",
              "    (1): BasicBlock(\n",
              "      (conv1): Conv2d(512, 512, kernel_size=(3, 3), stride=(1, 1), padding=(1, 1), bias=False)\n",
              "      (bn1): BatchNorm2d(512, eps=1e-05, momentum=0.1, affine=True, track_running_stats=True)\n",
              "      (relu): ReLU(inplace=True)\n",
              "      (conv2): Conv2d(512, 512, kernel_size=(3, 3), stride=(1, 1), padding=(1, 1), bias=False)\n",
              "      (bn2): BatchNorm2d(512, eps=1e-05, momentum=0.1, affine=True, track_running_stats=True)\n",
              "    )\n",
              "  )\n",
              "  (avgpool): AdaptiveAvgPool2d(output_size=(1, 1))\n",
              "  (fc): Linear(in_features=512, out_features=1000, bias=True)\n",
              ")"
            ]
          },
          "metadata": {},
          "execution_count": 27
        }
      ],
      "source": [
        "resnet18 = torchvision.models.resnet18(weights=None)\n",
        "resnet18"
      ]
    },
    {
      "cell_type": "code",
      "execution_count": null,
      "metadata": {
        "id": "RYsxkZDHqRM7",
        "outputId": "9e85b317-e585-4845-87fb-7f9ae78c675c",
        "colab": {
          "base_uri": "https://localhost:8080/"
        }
      },
      "outputs": [
        {
          "output_type": "stream",
          "name": "stdout",
          "text": [
            "11689512\n",
            "Decrease 6689512 params!!!\n"
          ]
        }
      ],
      "source": [
        "is_my_model_under_5m_params(resnet18)"
      ]
    },
    {
      "cell_type": "code",
      "execution_count": null,
      "metadata": {
        "id": "SUJ5Vk6hqRM8"
      },
      "outputs": [],
      "source": [
        "def conv3x3(in_channels, out_channels, stride=1):\n",
        "    return nn.Conv2d(in_channels, out_channels, kernel_size=3,\n",
        "                     stride=stride, padding=1, bias=False)"
      ]
    },
    {
      "cell_type": "code",
      "execution_count": 85,
      "metadata": {
        "id": "b6VCLBGQqRM8"
      },
      "outputs": [],
      "source": [
        "class ResidualBlock(nn.Module):\n",
        "    def __init__(self, in_channels, out_channels, stride=1, downsample=None):\n",
        "        super(ResidualBlock, self).__init__()\n",
        "        self.conv1 = conv3x3(in_channels, out_channels, stride)\n",
        "        self.bn1 = nn.BatchNorm2d(out_channels)\n",
        "        self.relu = nn.ReLU(inplace=True)\n",
        "        self.conv2 = conv3x3(out_channels, out_channels)\n",
        "        self.bn2 = nn.BatchNorm2d(out_channels)\n",
        "        self.downsample = downsample\n",
        "        #self.downsample = None\n",
        "\n",
        "    def forward(self, x):\n",
        "        residual = x\n",
        "        out = self.conv1(x)\n",
        "        out = self.bn1(out)\n",
        "        out = self.relu(out)\n",
        "        out = self.conv2(out)\n",
        "        out = self.bn2(out)\n",
        "        if self.downsample is not None:\n",
        "            residual = self.downsample(x)\n",
        "        out += residual\n",
        "        out = self.relu(out)\n",
        "        return out\n",
        "\n",
        "# ResNet\n",
        "class ResNet(nn.Module):\n",
        "    def __init__(self, block, layers, num_classes=10):\n",
        "        super(ResNet, self).__init__()\n",
        "        self.in_channels = 16\n",
        "        self.conv = conv3x3(3, 16)\n",
        "        self.bn = nn.BatchNorm2d(16)\n",
        "        self.relu = nn.ReLU(inplace=True)\n",
        "        self.layer1 = self.make_layer(block, 32, layers[0])\n",
        "        self.layer2 = self.make_layer(block, 64, layers[1], 2)\n",
        "        self.layer3 = self.make_layer(block, 128, layers[2], 2)\n",
        "        self.layer4 = self.make_layer(block, 256, layers[3], 2)\n",
        "\n",
        "        self.avg_pool = nn.AvgPool2d(4)\n",
        "        self.fc = nn.Linear(256, num_classes)\n",
        "        self.dropout = nn.Dropout(0.5)\n",
        "\n",
        "    def make_layer(self, block, out_channels, blocks, stride=1):\n",
        "        downsample = None\n",
        "        if (stride != 1) or (self.in_channels != out_channels):\n",
        "            downsample = nn.Sequential(\n",
        "                conv3x3(self.in_channels, out_channels, stride=stride),\n",
        "                nn.BatchNorm2d(out_channels))\n",
        "        layers = []\n",
        "        layers.append(block(self.in_channels, out_channels, stride, downsample))\n",
        "        self.in_channels = out_channels\n",
        "        for i in range(1, blocks):\n",
        "            layers.append(block(out_channels, out_channels))\n",
        "        return nn.Sequential(*layers)\n",
        "\n",
        "    def forward(self, x):\n",
        "        out = self.dropout(x)\n",
        "        out = self.conv(x)\n",
        "        out = self.bn(out)\n",
        "        out = self.relu(out)\n",
        "        out = self.layer1(out)\n",
        "        out = self.layer2(out)\n",
        "        out = self.layer3(out)\n",
        "        out = self.layer4(out)\n",
        "        out = self.avg_pool(out)\n",
        "        out = out.view(out.size(0), -1)\n",
        "        out = self.fc(out)\n",
        "        return out\n",
        "\n",
        "model = ResNet(ResidualBlock, [2, 2, 2,2])"
      ]
    },
    {
      "cell_type": "code",
      "execution_count": 81,
      "metadata": {
        "id": "s4V1a_UYqRM8",
        "outputId": "4d80c5d8-6e93-4270-d03e-36b95eeadbe9",
        "colab": {
          "base_uri": "https://localhost:8080/"
        }
      },
      "outputs": [
        {
          "output_type": "stream",
          "name": "stdout",
          "text": [
            "3141274\n",
            "less than 5 million params\n"
          ]
        }
      ],
      "source": [
        "is_my_model_under_5m_params(model)"
      ]
    },
    {
      "cell_type": "code",
      "execution_count": 82,
      "metadata": {
        "id": "02u13yFiqRM9",
        "outputId": "bf5d86e0-ceea-41d5-e13d-781623dab236",
        "colab": {
          "base_uri": "https://localhost:8080/",
          "height": 143
        }
      },
      "outputs": [
        {
          "output_type": "execute_result",
          "data": {
            "text/plain": [
              "'\\nimport torch.optim as optim\\nfrom torch.optim.lr_scheduler import StepLR\\n\\nscheduler = StepLR(optimizer, step_size=10, gamma=0.5)\\n\\ndevice = torch.device(\"cuda:0\" if torch.cuda.is_available() else \"cpu\")\\nmodel = model.to(device)\\ncriterion = nn.CrossEntropyLoss()\\noptimizer = optim.SGD(model.parameters(), lr=0.001, momentum=0.9)\\nnum_epochs = 50\\n\\nfor epoch in range(num_epochs):\\n    running_loss = 0.0\\n    for i, (inputs, labels) in enumerate(train_loader):\\n        inputs, labels = inputs.to(device), labels.to(device)\\n\\n        optimizer.zero_grad()\\n        outputs = model(inputs)\\n        loss = criterion(outputs, labels)\\n        loss.backward()\\n        optimizer.step()\\n\\n        running_loss += loss.item()\\n        running_loss = 0.0  # Optionally reset running loss after printing if you want to print per batch loss\\n    print(f\\'Epoch [{epoch + 1}/{num_epochs}], Loss: {running_loss:.4f}\\')\\n'"
            ],
            "application/vnd.google.colaboratory.intrinsic+json": {
              "type": "string"
            }
          },
          "metadata": {},
          "execution_count": 82
        }
      ],
      "source": [
        "\"\"\"\n",
        "import torch.optim as optim\n",
        "from torch.optim.lr_scheduler import StepLR\n",
        "\n",
        "scheduler = StepLR(optimizer, step_size=10, gamma=0.5)\n",
        "\n",
        "device = torch.device(\"cuda:0\" if torch.cuda.is_available() else \"cpu\")\n",
        "model = model.to(device)\n",
        "criterion = nn.CrossEntropyLoss()\n",
        "optimizer = optim.SGD(model.parameters(), lr=0.001, momentum=0.9)\n",
        "num_epochs = 50\n",
        "\n",
        "for epoch in range(num_epochs):\n",
        "    running_loss = 0.0\n",
        "    for i, (inputs, labels) in enumerate(train_loader):\n",
        "        inputs, labels = inputs.to(device), labels.to(device)\n",
        "\n",
        "        optimizer.zero_grad()\n",
        "        outputs = model(inputs)\n",
        "        loss = criterion(outputs, labels)\n",
        "        loss.backward()\n",
        "        optimizer.step()\n",
        "\n",
        "        running_loss += loss.item()\n",
        "        running_loss = 0.0  # Optionally reset running loss after printing if you want to print per batch loss\n",
        "    print(f'Epoch [{epoch + 1}/{num_epochs}], Loss: {running_loss:.4f}')\n",
        "\"\"\""
      ]
    },
    {
      "cell_type": "code",
      "execution_count": 83,
      "metadata": {
        "id": "IAn1jcbhqRM9",
        "colab": {
          "base_uri": "https://localhost:8080/"
        },
        "outputId": "79da5187-02a0-4dcd-9057-32f5a847262f"
      },
      "outputs": [
        {
          "output_type": "stream",
          "name": "stdout",
          "text": [
            "Epoch [1/10], Loss: 1.7741\n",
            "Epoch [2/10], Loss: 1.2520\n",
            "Epoch [3/10], Loss: 0.9680\n",
            "Epoch [4/10], Loss: 0.8009\n",
            "Epoch [5/10], Loss: 0.6618\n",
            "Epoch [6/10], Loss: 0.5756\n",
            "Epoch [7/10], Loss: 0.5103\n",
            "Epoch [8/10], Loss: 0.4599\n",
            "Epoch [9/10], Loss: 0.4212\n",
            "Epoch [10/10], Loss: 0.3898\n"
          ]
        }
      ],
      "source": [
        "#Try the Learning Rate Scheduler\n",
        "\n",
        "import torch.optim as optim\n",
        "from torch.optim.lr_scheduler import StepLR\n",
        "\n",
        "device = torch.device(\"cuda:0\" if torch.cuda.is_available() else \"cpu\")\n",
        "model = model.to(device)\n",
        "\n",
        "criterion = nn.CrossEntropyLoss()\n",
        "optimizer = optim.SGD(model.parameters(), lr=0.1, momentum=0.9)\n",
        "\n",
        "# Define the learning rate scheduler\n",
        "scheduler = optim.lr_scheduler.StepLR(optimizer, step_size=30, gamma=0.1)\n",
        "\n",
        "num_epochs = 10\n",
        "\n",
        "for epoch in range(num_epochs):\n",
        "    model.train()\n",
        "    running_loss = 0.0\n",
        "\n",
        "    for inputs, labels in train_loader:\n",
        "        inputs, labels = inputs.to(device), labels.to(device)\n",
        "\n",
        "        optimizer.zero_grad()\n",
        "\n",
        "        outputs = model(inputs)\n",
        "        loss = criterion(outputs, labels)\n",
        "\n",
        "        loss.backward()\n",
        "        optimizer.step()\n",
        "\n",
        "        running_loss += loss.item()\n",
        "\n",
        "    # After each epoch, step the scheduler\n",
        "    scheduler.step()\n",
        "\n",
        "    print(f'Epoch [{epoch + 1}/{num_epochs}], Loss: {running_loss/len(train_loader):.4f}')\n"
      ]
    },
    {
      "cell_type": "code",
      "execution_count": 84,
      "metadata": {
        "id": "CUQPcwHzqRM9",
        "colab": {
          "base_uri": "https://localhost:8080/"
        },
        "outputId": "ffae6b2e-f479-4787-b650-0ea870863d0a"
      },
      "outputs": [
        {
          "output_type": "stream",
          "name": "stdout",
          "text": [
            "Accuracy of the model on the test set: 83.66%\n"
          ]
        }
      ],
      "source": [
        "# Ensure the model is in evaluation mode\n",
        "model.eval()\n",
        "\n",
        "# To calculate the accuracy, keep track of the correct predictions and total predictions\n",
        "correct_predictions = 0\n",
        "total_predictions = 0\n",
        "\n",
        "# No gradients need to be calculated\n",
        "with torch.no_grad():\n",
        "    for data in val_loader:  # Assuming you use val_dataloader for testing\n",
        "        inputs, labels = data[0].to(device), data[1].to(device)\n",
        "\n",
        "        # Forward pass through the model\n",
        "        outputs = model(inputs)\n",
        "\n",
        "        # The class with the highest output is what we choose as prediction\n",
        "        _, predicted = torch.max(outputs.data, 1)\n",
        "\n",
        "        # Accumulate the total number of predictions and correct predictions\n",
        "        total_predictions += labels.size(0)\n",
        "        correct_predictions += (predicted == labels).sum().item()\n",
        "\n",
        "# Calculate the accuracy as correct predictions over total predictions\n",
        "accuracy = 100 * correct_predictions / total_predictions\n",
        "\n",
        "print(f'Accuracy of the model on the test set: {accuracy:.2f}%')"
      ]
    },
    {
      "cell_type": "code",
      "source": [],
      "metadata": {
        "id": "iAZfkdeptIYo"
      },
      "execution_count": null,
      "outputs": []
    }
  ],
  "metadata": {
    "kernelspec": {
      "display_name": "Python 3",
      "name": "python3"
    },
    "language_info": {
      "codemirror_mode": {
        "name": "ipython",
        "version": 3
      },
      "file_extension": ".py",
      "mimetype": "text/x-python",
      "name": "python",
      "nbconvert_exporter": "python",
      "pygments_lexer": "ipython3",
      "version": "3.11.5"
    },
    "colab": {
      "provenance": [],
      "gpuType": "V100"
    },
    "accelerator": "GPU"
  },
  "nbformat": 4,
  "nbformat_minor": 0
}