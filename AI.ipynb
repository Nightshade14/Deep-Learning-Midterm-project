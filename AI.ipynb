{
 "cells": [
  {
   "cell_type": "code",
   "execution_count": 37,
   "metadata": {},
   "outputs": [],
   "source": [
    "import numpy as np\n",
    "import torch\n",
    "from torch import nn\n",
    "import torchvision\n",
    "from torchvision.transforms import v2\n",
    "import matplotlib.pyplot as plt"
   ]
  },
  {
   "cell_type": "markdown",
   "metadata": {},
   "source": [
    "#### Augmentations and Transformations List:\n",
    "Pad\n",
    "RandomPerspective\n",
    "RandomRotation\n",
    "RandomAffine\n",
    "GaussianBlur\n",
    "\n",
    "policy == AutoAugmentPolicy.CIFAR10:\n",
    "            return [\n",
    "                ((\"Invert\", 0.1, None), (\"Contrast\", 0.2, 6)),\n",
    "                ((\"Rotate\", 0.7, 2), (\"TranslateX\", 0.3, 9)),\n",
    "                ((\"Sharpness\", 0.8, 1), (\"Sharpness\", 0.9, 3)),\n",
    "                ((\"ShearY\", 0.5, 8), (\"TranslateY\", 0.7, 9)),\n",
    "                ((\"AutoContrast\", 0.5, None), (\"Equalize\", 0.9, None)),\n",
    "                ((\"ShearY\", 0.2, 7), (\"Posterize\", 0.3, 7)),\n",
    "                ((\"Color\", 0.4, 3), (\"Brightness\", 0.6, 7)),\n",
    "                ((\"Sharpness\", 0.3, 9), (\"Brightness\", 0.7, 9)),\n",
    "                ((\"Equalize\", 0.6, None), (\"Equalize\", 0.5, None)),\n",
    "                ((\"Contrast\", 0.6, 7), (\"Sharpness\", 0.6, 5)),\n",
    "                ((\"Color\", 0.7, 7), (\"TranslateX\", 0.5, 8)),\n",
    "                ((\"Equalize\", 0.3, None), (\"AutoContrast\", 0.4, None)),\n",
    "                ((\"TranslateY\", 0.4, 3), (\"Sharpness\", 0.2, 6)),\n",
    "                ((\"Brightness\", 0.9, 6), (\"Color\", 0.2, 8)),\n",
    "                ((\"Solarize\", 0.5, 2), (\"Invert\", 0.0, None)),\n",
    "                ((\"Equalize\", 0.2, None), (\"AutoContrast\", 0.6, None)),\n",
    "                ((\"Equalize\", 0.2, None), (\"Equalize\", 0.6, None)),\n",
    "                ((\"Color\", 0.9, 9), (\"Equalize\", 0.6, None)),\n",
    "                ((\"AutoContrast\", 0.8, None), (\"Solarize\", 0.2, 8)),\n",
    "                ((\"Brightness\", 0.1, 3), (\"Color\", 0.7, 0)),\n",
    "                ((\"Solarize\", 0.4, 5), (\"AutoContrast\", 0.9, None)),\n",
    "                ((\"TranslateY\", 0.9, 9), (\"TranslateY\", 0.7, 9)),\n",
    "                ((\"AutoContrast\", 0.9, None), (\"Solarize\", 0.8, 3)),\n",
    "                ((\"Equalize\", 0.8, None), (\"Invert\", 0.1, None)),\n",
    "                ((\"TranslateY\", 0.7, 9), (\"AutoContrast\", 0.9, None)),\n",
    "            ]\n",
    "\n",
    "\n"
   ]
  },
  {
   "cell_type": "code",
   "execution_count": 18,
   "metadata": {},
   "outputs": [],
   "source": [
    "def unpickle(file):\n",
    "    import pickle\n",
    "    with open(file, 'rb') as fo:\n",
    "        dict = pickle.load(fo, encoding='bytes')\n",
    "    return dict"
   ]
  },
  {
   "cell_type": "code",
   "execution_count": 19,
   "metadata": {},
   "outputs": [],
   "source": [
    "def get_label_names_from_bytes_dict(x:dict) -> list:\n",
    "    data = x.get(b\"label_names\")\n",
    "    labels =  list(map(lambda m: m.decode(\"utf-8\"),data))\n",
    "    label_dict = dict()\n",
    "    for i in range(10):\n",
    "        label_dict.update({labels[i]: i})\n",
    "    return label_dict"
   ]
  },
  {
   "cell_type": "code",
   "execution_count": 20,
   "metadata": {},
   "outputs": [],
   "source": [
    "def treat_image_structure(x):\n",
    "    return np.transpose(np.reshape(x, (3,32,32)), (1,2,0))"
   ]
  },
  {
   "cell_type": "code",
   "execution_count": 21,
   "metadata": {},
   "outputs": [],
   "source": [
    "def get_data(file_path):\n",
    "    X = []\n",
    "    y = []\n",
    "\n",
    "    file_data = unpickle(file_path)\n",
    "    for image, label in zip(file_data[b\"data\"],file_data[b\"labels\"]):\n",
    "        corrected_image = treat_image_structure(image)\n",
    "        X.append(corrected_image)\n",
    "        y.append(label)\n",
    "\n",
    "    X = np.array(X)\n",
    "    y = np.array(y)\n",
    "\n",
    "    return (X,y)\n"
   ]
  },
  {
   "cell_type": "code",
   "execution_count": 22,
   "metadata": {},
   "outputs": [],
   "source": [
    "def get_data_from_dir(dir_path, start_pattern=\"data_batch_\"):\n",
    "    import os\n",
    "    X = []\n",
    "    y = []\n",
    "    for path in os.listdir(dir_path):\n",
    "        if path.startswith(start_pattern):\n",
    "            final_path = \"\".join((dir_path,path))\n",
    "\n",
    "            X_batch, y_batch = get_data(final_path)\n",
    "            X.extend(X_batch)\n",
    "            y.extend(y_batch)\n",
    "       \n",
    "    X = np.array(X)\n",
    "    y = np.array(y)\n",
    "    return (X,y)"
   ]
  },
  {
   "cell_type": "code",
   "execution_count": 23,
   "metadata": {},
   "outputs": [],
   "source": [
    "def preprocess_data(images):\n",
    "    '''\n",
    "    We apply torchvision's auto-augment policy specially designed to enhance the generalization of the model on CIFAR10 dataset.\n",
    "    Thus, this creates better augmented data, more suitable for generalized learning of features.\n",
    "    The transformations are applied randomly from bunch of transformations. Random for every image.\n",
    "    '''\n",
    "\n",
    "    augmenter = v2.AutoAugment(v2.AutoAugmentPolicy.CIFAR10)\n",
    "    augmented_images = augmenter(images)\n",
    "    return augmented_images   "
   ]
  },
  {
   "cell_type": "code",
   "execution_count": 24,
   "metadata": {},
   "outputs": [],
   "source": [
    "def is_my_model_under_5m_params(model):\n",
    "    FIVE_MILLION = 5_000_000\n",
    "    sum = 0\n",
    "    for x in model.parameters():\n",
    "        sum += x.numel()\n",
    "    print(sum)\n",
    "    if sum <= FIVE_MILLION:\n",
    "        print(\"less than 5 million params\")\n",
    "    else:\n",
    "        print(f\"Decrease {sum - FIVE_MILLION} params!!!\")"
   ]
  },
  {
   "cell_type": "code",
   "execution_count": 25,
   "metadata": {},
   "outputs": [],
   "source": [
    "META_FILE_PATH = \"../midterm-project/dataset/train/batches.meta\"\n",
    "\n",
    "TRAINING_FILE_PATH = \"../midterm-project/dataset/train/\"\n",
    "VALIDATION_FILE_PATH = \"../midterm-project/dataset/val/test_batch\"\n",
    "TEST_FILE_PATH = \"../midterm-project/dataset/test/cifar_test_nolabels.pkl\"\n",
    "\n",
    "IS_LOGGING_ENABLED = True\n",
    "\n"
   ]
  },
  {
   "cell_type": "code",
   "execution_count": 26,
   "metadata": {},
   "outputs": [
    {
     "name": "stdout",
     "output_type": "stream",
     "text": [
      "{'airplane': 0, 'automobile': 1, 'bird': 2, 'cat': 3, 'deer': 4, 'dog': 5, 'frog': 6, 'horse': 7, 'ship': 8, 'truck': 9}\n"
     ]
    }
   ],
   "source": [
    "label_mapping = get_label_names_from_bytes_dict(unpickle(META_FILE_PATH))\n",
    "if IS_LOGGING_ENABLED:\n",
    "    print(label_mapping)"
   ]
  },
  {
   "cell_type": "code",
   "execution_count": 27,
   "metadata": {},
   "outputs": [
    {
     "name": "stdout",
     "output_type": "stream",
     "text": [
      "(50000, 32, 32, 3)\n",
      "(50000,)\n"
     ]
    }
   ],
   "source": [
    "X_train_np, y_train_np = get_data_from_dir(TRAINING_FILE_PATH)\n",
    "if IS_LOGGING_ENABLED:\n",
    "    print(X_train_np.shape)\n",
    "    print(y_train_np.shape)"
   ]
  },
  {
   "cell_type": "code",
   "execution_count": 28,
   "metadata": {},
   "outputs": [
    {
     "name": "stdout",
     "output_type": "stream",
     "text": [
      "(10000, 32, 32, 3)\n",
      "(10000,)\n"
     ]
    }
   ],
   "source": [
    "X_val_np, y_val_np = get_data(VALIDATION_FILE_PATH)\n",
    "if IS_LOGGING_ENABLED:\n",
    "    print(X_val_np.shape)\n",
    "    print(y_val_np.shape)"
   ]
  },
  {
   "cell_type": "code",
   "execution_count": 29,
   "metadata": {},
   "outputs": [
    {
     "data": {
      "text/plain": [
       "<torch._C.Generator at 0x7f734459a770>"
      ]
     },
     "execution_count": 29,
     "metadata": {},
     "output_type": "execute_result"
    }
   ],
   "source": [
    "# I want to set the seed for the random transformations for autoaugment policy.\n",
    "torch.manual_seed(0)"
   ]
  },
  {
   "cell_type": "code",
   "execution_count": 30,
   "metadata": {},
   "outputs": [
    {
     "name": "stdout",
     "output_type": "stream",
     "text": [
      "torch.Size([50000, 3, 32, 32])\n",
      "torch.Size([50000])\n",
      "\n",
      "torch.Size([10000, 3, 32, 32])\n",
      "torch.Size([10000])\n"
     ]
    }
   ],
   "source": [
    "# We change the structure of the image from 32x32x3 to 3x32x32 because the our torchvision augmenter needs data in that style.\n",
    "\n",
    "X_train = torch.transpose(torch.from_numpy(X_train_np),1,3)\n",
    "y_train = torch.from_numpy(y_train_np)\n",
    "\n",
    "X_val = torch.transpose(torch.from_numpy(X_val_np),1,3)\n",
    "y_val = torch.from_numpy(y_val_np)\n",
    "\n",
    "if IS_LOGGING_ENABLED:\n",
    "    print(X_train.shape)\n",
    "    print(y_train.shape, end=\"\\n\\n\")\n",
    "    print(X_val.shape)\n",
    "    print(y_val.shape)"
   ]
  },
  {
   "cell_type": "code",
   "execution_count": 31,
   "metadata": {},
   "outputs": [],
   "source": [
    "# We use data augmentation only on training data because we will use the validation data as test data\n",
    "# We could also use it on val data, but I do not think it would be useful.\n",
    "\n",
    "X_train = preprocess_data(X_train)"
   ]
  },
  {
   "cell_type": "code",
   "execution_count": 32,
   "metadata": {},
   "outputs": [],
   "source": [
    "from torch.utils.data import DataLoader\n",
    "\n",
    "train_dataloader = DataLoader(X_train, batch_size=10_000, shuffle=True, num_workers=2)\n",
    "val_dataloader = DataLoader(X_val, batch_size=10_000, shuffle=True, num_workers=2)"
   ]
  },
  {
   "cell_type": "code",
   "execution_count": null,
   "metadata": {},
   "outputs": [],
   "source": []
  },
  {
   "cell_type": "code",
   "execution_count": null,
   "metadata": {},
   "outputs": [],
   "source": []
  },
  {
   "cell_type": "code",
   "execution_count": 33,
   "metadata": {},
   "outputs": [
    {
     "data": {
      "text/plain": [
       "ResNet(\n",
       "  (conv1): Conv2d(3, 64, kernel_size=(7, 7), stride=(2, 2), padding=(3, 3), bias=False)\n",
       "  (bn1): BatchNorm2d(64, eps=1e-05, momentum=0.1, affine=True, track_running_stats=True)\n",
       "  (relu): ReLU(inplace=True)\n",
       "  (maxpool): MaxPool2d(kernel_size=3, stride=2, padding=1, dilation=1, ceil_mode=False)\n",
       "  (layer1): Sequential(\n",
       "    (0): BasicBlock(\n",
       "      (conv1): Conv2d(64, 64, kernel_size=(3, 3), stride=(1, 1), padding=(1, 1), bias=False)\n",
       "      (bn1): BatchNorm2d(64, eps=1e-05, momentum=0.1, affine=True, track_running_stats=True)\n",
       "      (relu): ReLU(inplace=True)\n",
       "      (conv2): Conv2d(64, 64, kernel_size=(3, 3), stride=(1, 1), padding=(1, 1), bias=False)\n",
       "      (bn2): BatchNorm2d(64, eps=1e-05, momentum=0.1, affine=True, track_running_stats=True)\n",
       "    )\n",
       "    (1): BasicBlock(\n",
       "      (conv1): Conv2d(64, 64, kernel_size=(3, 3), stride=(1, 1), padding=(1, 1), bias=False)\n",
       "      (bn1): BatchNorm2d(64, eps=1e-05, momentum=0.1, affine=True, track_running_stats=True)\n",
       "      (relu): ReLU(inplace=True)\n",
       "      (conv2): Conv2d(64, 64, kernel_size=(3, 3), stride=(1, 1), padding=(1, 1), bias=False)\n",
       "      (bn2): BatchNorm2d(64, eps=1e-05, momentum=0.1, affine=True, track_running_stats=True)\n",
       "    )\n",
       "  )\n",
       "  (layer2): Sequential(\n",
       "    (0): BasicBlock(\n",
       "      (conv1): Conv2d(64, 128, kernel_size=(3, 3), stride=(2, 2), padding=(1, 1), bias=False)\n",
       "      (bn1): BatchNorm2d(128, eps=1e-05, momentum=0.1, affine=True, track_running_stats=True)\n",
       "      (relu): ReLU(inplace=True)\n",
       "      (conv2): Conv2d(128, 128, kernel_size=(3, 3), stride=(1, 1), padding=(1, 1), bias=False)\n",
       "      (bn2): BatchNorm2d(128, eps=1e-05, momentum=0.1, affine=True, track_running_stats=True)\n",
       "      (downsample): Sequential(\n",
       "        (0): Conv2d(64, 128, kernel_size=(1, 1), stride=(2, 2), bias=False)\n",
       "        (1): BatchNorm2d(128, eps=1e-05, momentum=0.1, affine=True, track_running_stats=True)\n",
       "      )\n",
       "    )\n",
       "    (1): BasicBlock(\n",
       "      (conv1): Conv2d(128, 128, kernel_size=(3, 3), stride=(1, 1), padding=(1, 1), bias=False)\n",
       "      (bn1): BatchNorm2d(128, eps=1e-05, momentum=0.1, affine=True, track_running_stats=True)\n",
       "      (relu): ReLU(inplace=True)\n",
       "      (conv2): Conv2d(128, 128, kernel_size=(3, 3), stride=(1, 1), padding=(1, 1), bias=False)\n",
       "      (bn2): BatchNorm2d(128, eps=1e-05, momentum=0.1, affine=True, track_running_stats=True)\n",
       "    )\n",
       "  )\n",
       "  (layer3): Sequential(\n",
       "    (0): BasicBlock(\n",
       "      (conv1): Conv2d(128, 256, kernel_size=(3, 3), stride=(2, 2), padding=(1, 1), bias=False)\n",
       "      (bn1): BatchNorm2d(256, eps=1e-05, momentum=0.1, affine=True, track_running_stats=True)\n",
       "      (relu): ReLU(inplace=True)\n",
       "      (conv2): Conv2d(256, 256, kernel_size=(3, 3), stride=(1, 1), padding=(1, 1), bias=False)\n",
       "      (bn2): BatchNorm2d(256, eps=1e-05, momentum=0.1, affine=True, track_running_stats=True)\n",
       "      (downsample): Sequential(\n",
       "        (0): Conv2d(128, 256, kernel_size=(1, 1), stride=(2, 2), bias=False)\n",
       "        (1): BatchNorm2d(256, eps=1e-05, momentum=0.1, affine=True, track_running_stats=True)\n",
       "      )\n",
       "    )\n",
       "    (1): BasicBlock(\n",
       "      (conv1): Conv2d(256, 256, kernel_size=(3, 3), stride=(1, 1), padding=(1, 1), bias=False)\n",
       "      (bn1): BatchNorm2d(256, eps=1e-05, momentum=0.1, affine=True, track_running_stats=True)\n",
       "      (relu): ReLU(inplace=True)\n",
       "      (conv2): Conv2d(256, 256, kernel_size=(3, 3), stride=(1, 1), padding=(1, 1), bias=False)\n",
       "      (bn2): BatchNorm2d(256, eps=1e-05, momentum=0.1, affine=True, track_running_stats=True)\n",
       "    )\n",
       "  )\n",
       "  (layer4): Sequential(\n",
       "    (0): BasicBlock(\n",
       "      (conv1): Conv2d(256, 512, kernel_size=(3, 3), stride=(2, 2), padding=(1, 1), bias=False)\n",
       "      (bn1): BatchNorm2d(512, eps=1e-05, momentum=0.1, affine=True, track_running_stats=True)\n",
       "      (relu): ReLU(inplace=True)\n",
       "      (conv2): Conv2d(512, 512, kernel_size=(3, 3), stride=(1, 1), padding=(1, 1), bias=False)\n",
       "      (bn2): BatchNorm2d(512, eps=1e-05, momentum=0.1, affine=True, track_running_stats=True)\n",
       "      (downsample): Sequential(\n",
       "        (0): Conv2d(256, 512, kernel_size=(1, 1), stride=(2, 2), bias=False)\n",
       "        (1): BatchNorm2d(512, eps=1e-05, momentum=0.1, affine=True, track_running_stats=True)\n",
       "      )\n",
       "    )\n",
       "    (1): BasicBlock(\n",
       "      (conv1): Conv2d(512, 512, kernel_size=(3, 3), stride=(1, 1), padding=(1, 1), bias=False)\n",
       "      (bn1): BatchNorm2d(512, eps=1e-05, momentum=0.1, affine=True, track_running_stats=True)\n",
       "      (relu): ReLU(inplace=True)\n",
       "      (conv2): Conv2d(512, 512, kernel_size=(3, 3), stride=(1, 1), padding=(1, 1), bias=False)\n",
       "      (bn2): BatchNorm2d(512, eps=1e-05, momentum=0.1, affine=True, track_running_stats=True)\n",
       "    )\n",
       "  )\n",
       "  (avgpool): AdaptiveAvgPool2d(output_size=(1, 1))\n",
       "  (fc): Linear(in_features=512, out_features=1000, bias=True)\n",
       ")"
      ]
     },
     "execution_count": 33,
     "metadata": {},
     "output_type": "execute_result"
    }
   ],
   "source": [
    "resnet18 = torchvision.models.resnet18(weights=None)\n",
    "resnet18"
   ]
  },
  {
   "cell_type": "code",
   "execution_count": 34,
   "metadata": {},
   "outputs": [
    {
     "name": "stdout",
     "output_type": "stream",
     "text": [
      "11689512\n",
      "Decrease 6689512 params!!!\n"
     ]
    }
   ],
   "source": [
    "is_my_model_under_5m_params(resnet18)"
   ]
  },
  {
   "cell_type": "code",
   "execution_count": 38,
   "metadata": {},
   "outputs": [],
   "source": [
    "def conv3x3(in_channels, out_channels, stride=1):\n",
    "    return nn.Conv2d(in_channels, out_channels, kernel_size=3, \n",
    "                     stride=stride, padding=1, bias=False)"
   ]
  },
  {
   "cell_type": "code",
   "execution_count": 41,
   "metadata": {},
   "outputs": [],
   "source": [
    "class ResidualBlock(nn.Module):\n",
    "    def __init__(self, in_channels, out_channels, stride=1, downsample=None):\n",
    "        super(ResidualBlock, self).__init__()\n",
    "        self.conv1 = conv3x3(in_channels, out_channels, stride)\n",
    "        self.bn1 = nn.BatchNorm2d(out_channels)\n",
    "        self.relu = nn.ReLU(inplace=True)\n",
    "        self.conv2 = conv3x3(out_channels, out_channels)\n",
    "        self.bn2 = nn.BatchNorm2d(out_channels)\n",
    "        # self.downsample = downsample\n",
    "        self.downsample = None\n",
    "        \n",
    "    def forward(self, x):\n",
    "        residual = x\n",
    "        out = self.conv1(x)\n",
    "        out = self.bn1(out)\n",
    "        out = self.relu(out)\n",
    "        out = self.conv2(out)\n",
    "        out = self.bn2(out)\n",
    "        if self.downsample:\n",
    "            residual = self.downsample(x)\n",
    "        out += residual\n",
    "        out = self.relu(out)\n",
    "        return out\n",
    "\n",
    "# ResNet\n",
    "class ResNet(nn.Module):\n",
    "    def __init__(self, block, layers, num_classes=10):\n",
    "        super(ResNet, self).__init__()\n",
    "        self.in_channels = 16\n",
    "        self.conv = conv3x3(3, 16)\n",
    "        self.bn = nn.BatchNorm2d(16)\n",
    "        self.relu = nn.ReLU(inplace=True)\n",
    "        self.layer1 = self.make_layer(block, 16, layers[0])\n",
    "        self.layer2 = self.make_layer(block, 32, layers[1], 2)\n",
    "        self.layer3 = self.make_layer(block, 64, layers[2], 2)\n",
    "        self.avg_pool = nn.AvgPool2d(8)\n",
    "        self.fc = nn.Linear(64, num_classes)\n",
    "        \n",
    "    def make_layer(self, block, out_channels, blocks, stride=1):\n",
    "        downsample = None\n",
    "        if (stride != 1) or (self.in_channels != out_channels):\n",
    "            downsample = nn.Sequential(\n",
    "                conv3x3(self.in_channels, out_channels, stride=stride),\n",
    "                nn.BatchNorm2d(out_channels))\n",
    "        layers = []\n",
    "        layers.append(block(self.in_channels, out_channels, stride, downsample))\n",
    "        self.in_channels = out_channels\n",
    "        for i in range(1, blocks):\n",
    "            layers.append(block(out_channels, out_channels))\n",
    "        return nn.Sequential(*layers)\n",
    "    \n",
    "    def forward(self, x):\n",
    "        out = self.conv(x)\n",
    "        out = self.bn(out)\n",
    "        out = self.relu(out)\n",
    "        out = self.layer1(out)\n",
    "        out = self.layer2(out)\n",
    "        out = self.layer3(out)\n",
    "        out = self.avg_pool(out)\n",
    "        out = out.view(out.size(0), -1)\n",
    "        out = self.fc(out)\n",
    "        return out\n",
    "    \n",
    "model = ResNet(ResidualBlock, [2, 2, 2])"
   ]
  },
  {
   "cell_type": "code",
   "execution_count": 42,
   "metadata": {},
   "outputs": [
    {
     "name": "stdout",
     "output_type": "stream",
     "text": [
      "172506\n",
      "less than 5 million params\n"
     ]
    }
   ],
   "source": [
    "is_my_model_under_5m_params(model)"
   ]
  }
 ],
 "metadata": {
  "kernelspec": {
   "display_name": "pytorch",
   "language": "python",
   "name": "python3"
  },
  "language_info": {
   "codemirror_mode": {
    "name": "ipython",
    "version": 3
   },
   "file_extension": ".py",
   "mimetype": "text/x-python",
   "name": "python",
   "nbconvert_exporter": "python",
   "pygments_lexer": "ipython3",
   "version": "3.10.12"
  }
 },
 "nbformat": 4,
 "nbformat_minor": 2
}
